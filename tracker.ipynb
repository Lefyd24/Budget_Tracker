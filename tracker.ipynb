{
 "cells": [
  {
   "cell_type": "code",
   "execution_count": 104,
   "metadata": {},
   "outputs": [],
   "source": [
    "import requests\n",
    "import email\n",
    "from imapclient import IMAPClient\n",
    "from bs4 import BeautifulSoup\n",
    "import time\n",
    "import json"
   ]
  },
  {
   "cell_type": "code",
   "execution_count": 24,
   "metadata": {},
   "outputs": [],
   "source": [
    "google_form_url = \"https://docs.google.com/forms/d/e/1FAIpQLSdvsBIQTkYz7MUq1PCpVgnROiZnbNFoiGGs58rFcM0lqBntkw/viewform?usp=sf_link\"\n",
    "email_address = \"fthenosyd@gmail.com\"\n",
    "email_password = \"yuvrnxoilswwwife\""
   ]
  },
  {
   "cell_type": "code",
   "execution_count": 107,
   "metadata": {},
   "outputs": [
    {
     "name": "stdout",
     "output_type": "stream",
     "text": [
      "{'income': '1300', 'budget': {'house': '340', 'gas': '100', 'supermarket': '150', 'entertainment': '150', 'efood': '50', 'bills': '70', 'others': '100', 'total': '960'}, 'savings': '340'}\n"
     ]
    }
   ],
   "source": [
    "budget = json.loads(open(\"budget.json\").read())\n",
    "print(budget)"
   ]
  },
  {
   "cell_type": "code",
   "execution_count": 96,
   "metadata": {},
   "outputs": [],
   "source": [
    "USER_KEY = \"u7rpsco3e2gxpbm2or6g7cpwhwom24\"\n",
    "API_TOKEN = \"atvoawk91m3gvjo1tynapr65ga3a49\"\n",
    "\n",
    "def send_budget_notification(payload):\n",
    "    response = requests.post('https://api.pushover.net/1/messages.json', data=payload)\n",
    "    \n",
    "    if response.status_code == 200:\n",
    "        print(\"Notification sent.\")\n",
    "    else:\n",
    "        print(f\"Error sending notification. Status code: {response.status_code}\")"
   ]
  },
  {
   "cell_type": "code",
   "execution_count": 163,
   "metadata": {},
   "outputs": [],
   "source": [
    "def read_daily_expenses_email():\n",
    "        # Search for unread emails with a specific subject\n",
    "        while True:\n",
    "            with IMAPClient(host='imap.gmail.com', use_uid=True, ssl=True) as client:\n",
    "                client.login(email_address, email_password)\n",
    "                client.select_folder('INBOX')\n",
    "                messages = client.search(['UNSEEN', 'SUBJECT', 'Budget response'])\n",
    "\n",
    "                if messages:\n",
    "                    for msg_id in messages:\n",
    "                        amounts = dict()\n",
    "                        response_data = client.fetch([msg_id], 'BODY[TEXT]')[msg_id][b'BODY[TEXT]']\n",
    "                        msg = email.message_from_bytes(response_data)\n",
    "                        soup = BeautifulSoup(msg.get_payload(decode=True), 'html.parser')\n",
    "                        # Parse the email content to extract the submitted expense\n",
    "                        spans = soup.find_all('span')\n",
    "                        \n",
    "                        amounts['rent'] = spans[0].text\n",
    "                        amounts['car_installement'] = spans[1].text\n",
    "                        amounts['gasoline'] = spans[2].text\n",
    "                        amounts['supermarket'] = spans[3].text\n",
    "                        amounts['entertainment'] = spans[4].text\n",
    "                        amounts['efood'] = spans[5].text\n",
    "                        amounts['bills'] = spans[5].text\n",
    "                        amounts['others'] = spans[6].text\n",
    "                        # Mark the email as read\n",
    "                        client.delete_messages(msg_id)\n",
    "                        break\n",
    "                    return amounts\n",
    "                else:\n",
    "                    #client.logout()\n",
    "                    time.sleep(5)\n"
   ]
  },
  {
   "cell_type": "code",
   "execution_count": 164,
   "metadata": {},
   "outputs": [
    {
     "name": "stdout",
     "output_type": "stream",
     "text": [
      "Notification sent.\n"
     ]
    }
   ],
   "source": [
    "send_budget_notification(payload = {\n",
    "        'message': 'Εισαγωγή των σημερινών εξόδων',\n",
    "        'token': API_TOKEN,\n",
    "        'user': USER_KEY,\n",
    "        'title': 'Budget Alert',\n",
    "        'url': google_form_url,\n",
    "        'url_title': \"Enter your today's expanes\",\n",
    "    })\n"
   ]
  },
  {
   "cell_type": "code",
   "execution_count": 165,
   "metadata": {},
   "outputs": [
    {
     "name": "stdout",
     "output_type": "stream",
     "text": [
      "Today's expenses: {'rent': '0', 'car_installement': '0', 'gasoline': '0', 'supermarket': '0', 'entertainment': '0', 'efood': '10', 'bills': '10', 'others': '10.5'}\n"
     ]
    }
   ],
   "source": [
    "daily_expenses = read_daily_expenses_email()\n",
    "\n",
    "print(f\"Today's expenses: {daily_expenses}\")"
   ]
  },
  {
   "attachments": {},
   "cell_type": "markdown",
   "metadata": {},
   "source": [
    "Replace special characters"
   ]
  },
  {
   "cell_type": "code",
   "execution_count": 166,
   "metadata": {},
   "outputs": [
    {
     "name": "stdout",
     "output_type": "stream",
     "text": [
      "{'rent': '0', 'car_installement': '0', 'gasoline': '0', 'supermarket': '0', 'entertainment': '0', 'efood': '10', 'bills': '10', 'others': '10.5'}\n"
     ]
    }
   ],
   "source": [
    "try:\n",
    "    daily_expenses['gasoline'] = daily_expenses['gasoline'].replace(\"\\r\", \"\")\n",
    "    try:\n",
    "        daily_expenses['gasoline'] = daily_expenses['gasoline'].replace(\"\\n\", \"\")\n",
    "        try:\n",
    "            daily_expenses['gasoline'] = daily_expenses['gasoline'].replace(\"=\", \"\")\n",
    "        except Exception:\n",
    "            pass\n",
    "    except Exception:\n",
    "        pass\n",
    "except Exception:\n",
    "    pass\n",
    "\n",
    "print(daily_expenses)"
   ]
  },
  {
   "attachments": {},
   "cell_type": "markdown",
   "metadata": {},
   "source": [
    "Replace letter if any and turn the values into float numbers"
   ]
  },
  {
   "cell_type": "code",
   "execution_count": 167,
   "metadata": {},
   "outputs": [
    {
     "name": "stdout",
     "output_type": "stream",
     "text": [
      "{'rent': 0.0, 'car_installement': 0.0, 'gasoline': 0.0, 'supermarket': 0.0, 'entertainment': 0.0, 'efood': 10.0, 'bills': 10.0, 'others': 105.0}\n"
     ]
    }
   ],
   "source": [
    "import re\n",
    "for key in daily_expenses.keys():\n",
    "    daily_expenses[key] = re.sub(r'[^\\d]', '', daily_expenses[key])\n",
    "    daily_expenses[key] = float(daily_expenses[key])\n",
    "print(daily_expenses)"
   ]
  }
 ],
 "metadata": {
  "kernelspec": {
   "display_name": "venv",
   "language": "python",
   "name": "python3"
  },
  "language_info": {
   "codemirror_mode": {
    "name": "ipython",
    "version": 3
   },
   "file_extension": ".py",
   "mimetype": "text/x-python",
   "name": "python",
   "nbconvert_exporter": "python",
   "pygments_lexer": "ipython3",
   "version": "3.9.12"
  },
  "orig_nbformat": 4
 },
 "nbformat": 4,
 "nbformat_minor": 2
}
